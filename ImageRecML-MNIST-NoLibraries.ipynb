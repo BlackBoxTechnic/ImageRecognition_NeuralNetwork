{
  "metadata": {
    "kernelspec": {
      "language": "python",
      "display_name": "Python 3",
      "name": "python3"
    },
    "language_info": {
      "name": "python",
      "version": "3.7.6",
      "mimetype": "text/x-python",
      "codemirror_mode": {
        "name": "ipython",
        "version": 3
      },
      "pygments_lexer": "ipython3",
      "nbconvert_exporter": "python",
      "file_extension": ".py"
    },
    "kaggle": {
      "accelerator": "none",
      "dataSources": [
        {
          "sourceId": 3004,
          "databundleVersionId": 861823,
          "sourceType": "competition"
        }
      ],
      "dockerImageVersionId": 30035,
      "isInternetEnabled": false,
      "language": "python",
      "sourceType": "notebook",
      "isGpuEnabled": false
    },
    "colab": {
      "name": "Simple MNIST NN from scratch (numpy, no TF/Keras)",
      "provenance": [],
      "include_colab_link": true
    }
  },
  "nbformat_minor": 0,
  "nbformat": 4,
  "cells": [
    {
      "cell_type": "markdown",
      "metadata": {
        "id": "view-in-github",
        "colab_type": "text"
      },
      "source": [
        "<a href=\"https://colab.research.google.com/github/BlackBoxTechnic/ImageRecognition_NeuralNetwork/blob/main/ImageRecML-MNIST-NoLibraries.ipynb\" target=\"_parent\"><img src=\"https://colab.research.google.com/assets/colab-badge.svg\" alt=\"Open In Colab\"/></a>"
      ]
    },
    {
      "source": [
        "\n",
        "import os\n",
        "import sys\n",
        "from tempfile import NamedTemporaryFile\n",
        "from urllib.request import urlopen\n",
        "from urllib.parse import unquote, urlparse\n",
        "from urllib.error import HTTPError\n",
        "from zipfile import ZipFile\n",
        "import tarfile\n",
        "import shutil\n",
        "\n",
        "CHUNK_SIZE = 40960\n",
        "DATA_SOURCE_MAPPING = 'digit-recognizer:https%3A%2F%2Fstorage.googleapis.com%2Fkaggle-competitions-data%2Fkaggle-v2%2F3004%2F861823%2Fbundle%2Farchive.zip%3FX-Goog-Algorithm%3DGOOG4-RSA-SHA256%26X-Goog-Credential%3Dgcp-kaggle-com%2540kaggle-161607.iam.gserviceaccount.com%252F20240629%252Fauto%252Fstorage%252Fgoog4_request%26X-Goog-Date%3D20240629T094041Z%26X-Goog-Expires%3D259200%26X-Goog-SignedHeaders%3Dhost%26X-Goog-Signature%3D65228d3ec2dd2e9a35d4283ce6fe08134810eedd74d58345ef72134e47e845332c5f7f0ba7aa0c761ce0eaa1fb10b81fbe9f1df5a6751101e130486a139202a8d5453e21cc276a4797a5f63ebd006d02978318697e97a55edacb99606acb3a294a2e5699a0dd20a63381f24fd7460329af30a8a6a0530f6447c162ca8d084c542f020c2f5b873f4953e9cfb2201fb6078a486c97bfeff784d101441b32f92d91c3d54f2b077fcfc4556b46e0b5a79d6900f1beef6c76beb394a5757cc3cd080437c57d1608015a6d813df887b0bb0e04677c7484c1b5944c7c30125008f6155a70522d7e8fe40f74514598bb08ed692f65167136dba25aa1ae9c8c6f4a20ff92'\n",
        "\n",
        "KAGGLE_INPUT_PATH='/kaggle/input'\n",
        "KAGGLE_WORKING_PATH='/kaggle/working'\n",
        "KAGGLE_SYMLINK='kaggle'\n",
        "\n",
        "!umount /kaggle/input/ 2> /dev/null\n",
        "shutil.rmtree('/kaggle/input', ignore_errors=True)\n",
        "os.makedirs(KAGGLE_INPUT_PATH, 0o777, exist_ok=True)\n",
        "os.makedirs(KAGGLE_WORKING_PATH, 0o777, exist_ok=True)\n",
        "\n",
        "try:\n",
        "  os.symlink(KAGGLE_INPUT_PATH, os.path.join(\"..\", 'input'), target_is_directory=True)\n",
        "except FileExistsError:\n",
        "  pass\n",
        "try:\n",
        "  os.symlink(KAGGLE_WORKING_PATH, os.path.join(\"..\", 'working'), target_is_directory=True)\n",
        "except FileExistsError:\n",
        "  pass\n",
        "\n",
        "for data_source_mapping in DATA_SOURCE_MAPPING.split(','):\n",
        "    directory, download_url_encoded = data_source_mapping.split(':')\n",
        "    download_url = unquote(download_url_encoded)\n",
        "    filename = urlparse(download_url).path\n",
        "    destination_path = os.path.join(KAGGLE_INPUT_PATH, directory)\n",
        "    try:\n",
        "        with urlopen(download_url) as fileres, NamedTemporaryFile() as tfile:\n",
        "            total_length = fileres.headers['content-length']\n",
        "            print(f'Downloading {directory}, {total_length} bytes compressed')\n",
        "            dl = 0\n",
        "            data = fileres.read(CHUNK_SIZE)\n",
        "            while len(data) > 0:\n",
        "                dl += len(data)\n",
        "                tfile.write(data)\n",
        "                done = int(50 * dl / int(total_length))\n",
        "                sys.stdout.write(f\"\\r[{'=' * done}{' ' * (50-done)}] {dl} bytes downloaded\")\n",
        "                sys.stdout.flush()\n",
        "                data = fileres.read(CHUNK_SIZE)\n",
        "            if filename.endswith('.zip'):\n",
        "              with ZipFile(tfile) as zfile:\n",
        "                zfile.extractall(destination_path)\n",
        "            else:\n",
        "              with tarfile.open(tfile.name) as tarfile:\n",
        "                tarfile.extractall(destination_path)\n",
        "            print(f'\\nDownloaded and uncompressed: {directory}')\n",
        "    except HTTPError as e:\n",
        "        print(f'Failed to load (likely expired) {download_url} to path {destination_path}')\n",
        "        continue\n",
        "    except OSError as e:\n",
        "        print(f'Failed to load {download_url} to path {destination_path}')\n",
        "        continue\n",
        "\n",
        "print('Data source import complete.')\n"
      ],
      "metadata": {
        "id": "8p-IfL_nXkxn",
        "outputId": "42f0a7a1-9ae2-4ea7-91df-ea1778325121",
        "colab": {
          "base_uri": "https://localhost:8080/"
        }
      },
      "cell_type": "code",
      "outputs": [
        {
          "output_type": "stream",
          "name": "stdout",
          "text": [
            "Downloading digit-recognizer, 16054568 bytes compressed\n",
            "[==================================================] 16054568 bytes downloaded\n",
            "Downloaded and uncompressed: digit-recognizer\n",
            "Data source import complete.\n"
          ]
        }
      ],
      "execution_count": 21
    },
    {
      "cell_type": "code",
      "source": [
        "import numpy as np\n",
        "import pandas as pd\n",
        "from matplotlib import pyplot as plt\n",
        "\n",
        "data = pd.read_csv('/kaggle/input/digit-recognizer/train.csv')"
      ],
      "metadata": {
        "_uuid": "8f2839f25d086af736a60e9eeb907d3b93b6e0e5",
        "_cell_guid": "b1076dfc-b9ad-4769-8c92-a6c4dae69d19",
        "execution": {
          "iopub.status.busy": "2024-06-29T09:37:47.248961Z",
          "iopub.execute_input": "2024-06-29T09:37:47.249483Z",
          "iopub.status.idle": "2024-06-29T09:37:50.856981Z",
          "shell.execute_reply.started": "2024-06-29T09:37:47.249432Z",
          "shell.execute_reply": "2024-06-29T09:37:50.855946Z"
        },
        "trusted": true,
        "id": "A5iwjojcXkxp"
      },
      "execution_count": 22,
      "outputs": []
    },
    {
      "cell_type": "code",
      "source": [
        "data = np.array(data)\n",
        "m, n = data.shape\n",
        "np.random.shuffle(data) # shuffle before splitting into dev and training sets\n",
        "\n",
        "data_dev = data[0:1000].T\n",
        "Y_dev = data_dev[0]\n",
        "X_dev = data_dev[1:n]\n",
        "X_dev = X_dev / 255.\n",
        "\n",
        "data_train = data[1000:m].T\n",
        "Y_train = data_train[0]\n",
        "X_train = data_train[1:n]\n",
        "X_train = X_train / 255.\n",
        "_,m_train = X_train.shape"
      ],
      "metadata": {
        "execution": {
          "iopub.status.busy": "2024-06-29T09:37:50.859499Z",
          "iopub.execute_input": "2024-06-29T09:37:50.859838Z",
          "iopub.status.idle": "2024-06-29T09:37:51.620769Z",
          "shell.execute_reply.started": "2024-06-29T09:37:50.859806Z",
          "shell.execute_reply": "2024-06-29T09:37:51.619897Z"
        },
        "trusted": true,
        "id": "EifuK5STXkxp"
      },
      "execution_count": 23,
      "outputs": []
    },
    {
      "cell_type": "code",
      "source": [
        "Y_train"
      ],
      "metadata": {
        "execution": {
          "iopub.status.busy": "2024-06-29T09:37:51.62209Z",
          "iopub.execute_input": "2024-06-29T09:37:51.622397Z",
          "iopub.status.idle": "2024-06-29T09:37:51.630857Z",
          "shell.execute_reply.started": "2024-06-29T09:37:51.622363Z",
          "shell.execute_reply": "2024-06-29T09:37:51.629749Z"
        },
        "trusted": true,
        "id": "vcgkgrMLXkxp",
        "outputId": "141f8c56-7470-41ab-80f6-e51e8a637f99",
        "colab": {
          "base_uri": "https://localhost:8080/"
        }
      },
      "execution_count": 24,
      "outputs": [
        {
          "output_type": "execute_result",
          "data": {
            "text/plain": [
              "array([6, 1, 5, ..., 8, 7, 3])"
            ]
          },
          "metadata": {},
          "execution_count": 24
        }
      ]
    },
    {
      "cell_type": "code",
      "source": [
        "def init_params():\n",
        "    W1 = np.random.normal(size=(10, 784)) * np.sqrt(1./(784))\n",
        "    b1 = np.random.normal(size=(10, 1)) * np.sqrt(1./10)\n",
        "    W2 = np.random.normal(size=(10, 10)) * np.sqrt(1./20)\n",
        "    b2 = np.random.normal(size=(10, 1)) * np.sqrt(1./(784))\n",
        "    return W1, b1, W2, b2\n",
        "\n",
        "\n",
        "def ReLU(Z):\n",
        "    return np.maximum(Z, 0)\n",
        "\n",
        "def softmax(Z):\n",
        "    Z -= np.max(Z, axis=0)  # Subtract max value for numerical stability\n",
        "    A = np.exp(Z) / np.sum(np.exp(Z), axis=0)\n",
        "    return A\n",
        "\n",
        "def forward_prop(W1, b1, W2, b2, X):\n",
        "    Z1 = W1.dot(X) + b1\n",
        "    A1 = ReLU(Z1)\n",
        "    Z2 = W2.dot(A1) + b2\n",
        "    A2 = softmax(Z2)\n",
        "    return Z1, A1, Z2, A2\n",
        "\n",
        "def ReLU_deriv(Z):\n",
        "    return Z > 0\n",
        "\n",
        "def one_hot(Y):\n",
        "    one_hot_Y = np.zeros((Y.size, Y.max() + 1))\n",
        "    one_hot_Y[np.arange(Y.size), Y] = 1\n",
        "    one_hot_Y = one_hot_Y.T\n",
        "    return one_hot_Y\n",
        "\n",
        "def backward_prop(Z1, A1, Z2, A2, W1, W2, X, Y):\n",
        "    one_hot_Y = one_hot(Y)\n",
        "    dZ2 = A2 - one_hot_Y\n",
        "    dW2 = 1 / m * dZ2.dot(A1.T)\n",
        "    db2 = 1 / m * np.sum(dZ2)\n",
        "    dZ1 = W2.T.dot(dZ2) * ReLU_deriv(Z1)\n",
        "    dW1 = 1 / m * dZ1.dot(X.T)\n",
        "    db1 = 1 / m * np.sum(dZ1)\n",
        "    return dW1, db1, dW2, db2\n",
        "\n",
        "def update_params(W1, b1, W2, b2, dW1, db1, dW2, db2, alpha):\n",
        "    W1 = W1 - alpha * dW1\n",
        "    b1 = b1 - alpha * db1\n",
        "    W2 = W2 - alpha * dW2\n",
        "    b2 = b2 - alpha * db2\n",
        "    return W1, b1, W2, b2"
      ],
      "metadata": {
        "execution": {
          "iopub.status.busy": "2024-06-29T09:37:51.632218Z",
          "iopub.execute_input": "2024-06-29T09:37:51.632549Z",
          "iopub.status.idle": "2024-06-29T09:37:51.650959Z",
          "shell.execute_reply.started": "2024-06-29T09:37:51.63251Z",
          "shell.execute_reply": "2024-06-29T09:37:51.649854Z"
        },
        "trusted": true,
        "id": "fqfbNOxYXkxq"
      },
      "execution_count": 25,
      "outputs": []
    },
    {
      "cell_type": "code",
      "source": [
        "def get_predictions(A2):\n",
        "    return np.argmax(A2, 0)\n",
        "\n",
        "def get_accuracy(predictions, Y):\n",
        "    print(predictions, Y)\n",
        "    return np.sum(predictions == Y) / Y.size\n",
        "\n",
        "def gradient_descent(X, Y, alpha, iterations):\n",
        "    W1, b1, W2, b2 = init_params()\n",
        "    for i in range(iterations):\n",
        "        Z1, A1, Z2, A2 = forward_prop(W1, b1, W2, b2, X)\n",
        "        dW1, db1, dW2, db2 = backward_prop(Z1, A1, Z2, A2, W1, W2, X, Y)\n",
        "        W1, b1, W2, b2 = update_params(W1, b1, W2, b2, dW1, db1, dW2, db2, alpha)\n",
        "        if i % 10 == 0:\n",
        "            print(\"Iteration: \", i)\n",
        "            predictions = get_predictions(A2)\n",
        "            print(get_accuracy(predictions, Y))\n",
        "    return W1, b1, W2, b2"
      ],
      "metadata": {
        "execution": {
          "iopub.status.busy": "2024-06-29T09:37:51.653969Z",
          "iopub.execute_input": "2024-06-29T09:37:51.654427Z",
          "iopub.status.idle": "2024-06-29T09:37:51.665381Z",
          "shell.execute_reply.started": "2024-06-29T09:37:51.654379Z",
          "shell.execute_reply": "2024-06-29T09:37:51.664149Z"
        },
        "trusted": true,
        "id": "Jwp_llwxXkxr"
      },
      "execution_count": 26,
      "outputs": []
    },
    {
      "cell_type": "code",
      "source": [
        "W1, b1, W2, b2 = gradient_descent(X_train, Y_train, 0.10, 500)"
      ],
      "metadata": {
        "execution": {
          "iopub.status.busy": "2024-06-29T09:37:51.667304Z",
          "iopub.execute_input": "2024-06-29T09:37:51.667776Z",
          "iopub.status.idle": "2024-06-29T09:38:32.98041Z",
          "shell.execute_reply.started": "2024-06-29T09:37:51.667728Z",
          "shell.execute_reply": "2024-06-29T09:38:32.979462Z"
        },
        "trusted": true,
        "id": "J3xdRPc6Xkxr",
        "outputId": "5dc0fc26-7830-4977-e314-dbe6f429b65f",
        "colab": {
          "base_uri": "https://localhost:8080/"
        }
      },
      "execution_count": 27,
      "outputs": [
        {
          "output_type": "stream",
          "name": "stdout",
          "text": [
            "Iteration:  0\n",
            "[0 0 3 ... 0 5 3] [6 1 5 ... 8 7 3]\n",
            "0.10990243902439024\n",
            "Iteration:  10\n",
            "[2 2 3 ... 3 2 3] [6 1 5 ... 8 7 3]\n",
            "0.36897560975609756\n",
            "Iteration:  20\n",
            "[6 2 0 ... 3 2 3] [6 1 5 ... 8 7 3]\n",
            "0.4923658536585366\n",
            "Iteration:  30\n",
            "[6 2 0 ... 8 7 3] [6 1 5 ... 8 7 3]\n",
            "0.5505609756097561\n",
            "Iteration:  40\n",
            "[6 2 0 ... 8 7 3] [6 1 5 ... 8 7 3]\n",
            "0.5939512195121951\n",
            "Iteration:  50\n",
            "[6 2 0 ... 8 7 3] [6 1 5 ... 8 7 3]\n",
            "0.6606341463414634\n",
            "Iteration:  60\n",
            "[1 1 5 ... 8 7 3] [6 1 5 ... 8 7 3]\n",
            "0.7775365853658537\n",
            "Iteration:  70\n",
            "[1 1 5 ... 8 7 3] [6 1 5 ... 8 7 3]\n",
            "0.7999024390243903\n",
            "Iteration:  80\n",
            "[1 1 5 ... 8 7 3] [6 1 5 ... 8 7 3]\n",
            "0.814\n",
            "Iteration:  90\n",
            "[1 1 5 ... 8 7 3] [6 1 5 ... 8 7 3]\n",
            "0.8242926829268292\n",
            "Iteration:  100\n",
            "[1 1 5 ... 8 7 3] [6 1 5 ... 8 7 3]\n",
            "0.8330487804878048\n",
            "Iteration:  110\n",
            "[1 1 5 ... 8 7 3] [6 1 5 ... 8 7 3]\n",
            "0.8397073170731707\n",
            "Iteration:  120\n",
            "[1 1 8 ... 8 7 3] [6 1 5 ... 8 7 3]\n",
            "0.8445853658536585\n",
            "Iteration:  130\n",
            "[1 1 8 ... 8 7 3] [6 1 5 ... 8 7 3]\n",
            "0.8485609756097561\n",
            "Iteration:  140\n",
            "[1 1 8 ... 8 7 3] [6 1 5 ... 8 7 3]\n",
            "0.853\n",
            "Iteration:  150\n",
            "[1 1 8 ... 8 7 3] [6 1 5 ... 8 7 3]\n",
            "0.8562439024390244\n",
            "Iteration:  160\n",
            "[1 1 8 ... 8 7 3] [6 1 5 ... 8 7 3]\n",
            "0.8598780487804878\n",
            "Iteration:  170\n",
            "[1 1 8 ... 8 7 3] [6 1 5 ... 8 7 3]\n",
            "0.8628292682926829\n",
            "Iteration:  180\n",
            "[1 1 8 ... 8 7 3] [6 1 5 ... 8 7 3]\n",
            "0.8659024390243902\n",
            "Iteration:  190\n",
            "[1 1 8 ... 8 7 3] [6 1 5 ... 8 7 3]\n",
            "0.8685853658536585\n",
            "Iteration:  200\n",
            "[1 1 8 ... 8 7 3] [6 1 5 ... 8 7 3]\n",
            "0.8711463414634146\n",
            "Iteration:  210\n",
            "[1 1 8 ... 8 7 3] [6 1 5 ... 8 7 3]\n",
            "0.8742682926829268\n",
            "Iteration:  220\n",
            "[6 1 8 ... 8 7 3] [6 1 5 ... 8 7 3]\n",
            "0.8760975609756098\n",
            "Iteration:  230\n",
            "[6 1 8 ... 8 7 3] [6 1 5 ... 8 7 3]\n",
            "0.8779756097560976\n",
            "Iteration:  240\n",
            "[6 1 8 ... 8 7 3] [6 1 5 ... 8 7 3]\n",
            "0.8796341463414634\n",
            "Iteration:  250\n",
            "[6 1 8 ... 8 7 3] [6 1 5 ... 8 7 3]\n",
            "0.8814634146341463\n",
            "Iteration:  260\n",
            "[6 1 8 ... 8 7 3] [6 1 5 ... 8 7 3]\n",
            "0.8829756097560976\n",
            "Iteration:  270\n",
            "[6 1 8 ... 8 7 3] [6 1 5 ... 8 7 3]\n",
            "0.8841463414634146\n",
            "Iteration:  280\n",
            "[6 1 8 ... 8 7 3] [6 1 5 ... 8 7 3]\n",
            "0.8853414634146342\n",
            "Iteration:  290\n",
            "[6 1 8 ... 8 7 3] [6 1 5 ... 8 7 3]\n",
            "0.8868536585365854\n",
            "Iteration:  300\n",
            "[6 1 8 ... 8 7 3] [6 1 5 ... 8 7 3]\n",
            "0.888219512195122\n",
            "Iteration:  310\n",
            "[6 1 8 ... 8 7 3] [6 1 5 ... 8 7 3]\n",
            "0.8893658536585366\n",
            "Iteration:  320\n",
            "[6 1 8 ... 8 7 3] [6 1 5 ... 8 7 3]\n",
            "0.8899756097560976\n",
            "Iteration:  330\n",
            "[6 1 8 ... 8 7 3] [6 1 5 ... 8 7 3]\n",
            "0.8910975609756098\n",
            "Iteration:  340\n",
            "[6 1 8 ... 8 7 3] [6 1 5 ... 8 7 3]\n",
            "0.8923170731707317\n",
            "Iteration:  350\n",
            "[6 1 8 ... 8 7 3] [6 1 5 ... 8 7 3]\n",
            "0.8931219512195122\n",
            "Iteration:  360\n",
            "[6 1 8 ... 8 7 3] [6 1 5 ... 8 7 3]\n",
            "0.8940731707317073\n",
            "Iteration:  370\n",
            "[6 1 8 ... 8 7 3] [6 1 5 ... 8 7 3]\n",
            "0.8950731707317073\n",
            "Iteration:  380\n",
            "[6 1 8 ... 8 7 3] [6 1 5 ... 8 7 3]\n",
            "0.895829268292683\n",
            "Iteration:  390\n",
            "[6 1 8 ... 8 7 3] [6 1 5 ... 8 7 3]\n",
            "0.8965853658536586\n",
            "Iteration:  400\n",
            "[6 1 8 ... 8 7 3] [6 1 5 ... 8 7 3]\n",
            "0.8973658536585366\n",
            "Iteration:  410\n",
            "[6 1 8 ... 8 7 3] [6 1 5 ... 8 7 3]\n",
            "0.8981219512195122\n",
            "Iteration:  420\n",
            "[6 1 8 ... 8 7 3] [6 1 5 ... 8 7 3]\n",
            "0.8990975609756098\n",
            "Iteration:  430\n",
            "[6 1 8 ... 8 7 3] [6 1 5 ... 8 7 3]\n",
            "0.8998536585365854\n",
            "Iteration:  440\n",
            "[6 1 8 ... 8 7 3] [6 1 5 ... 8 7 3]\n",
            "0.9004390243902439\n",
            "Iteration:  450\n",
            "[6 1 8 ... 8 7 3] [6 1 5 ... 8 7 3]\n",
            "0.9009756097560976\n",
            "Iteration:  460\n",
            "[6 1 8 ... 8 7 3] [6 1 5 ... 8 7 3]\n",
            "0.9015365853658537\n",
            "Iteration:  470\n",
            "[6 1 8 ... 8 7 3] [6 1 5 ... 8 7 3]\n",
            "0.9020243902439025\n",
            "Iteration:  480\n",
            "[6 1 8 ... 8 7 3] [6 1 5 ... 8 7 3]\n",
            "0.9025121951219512\n",
            "Iteration:  490\n",
            "[6 1 8 ... 8 7 3] [6 1 5 ... 8 7 3]\n",
            "0.9030731707317073\n"
          ]
        }
      ]
    },
    {
      "cell_type": "code",
      "source": [
        "def make_predictions(X, W1, b1, W2, b2):\n",
        "    _, _, _, A2 = forward_prop(W1, b1, W2, b2, X)\n",
        "    predictions = get_predictions(A2)\n",
        "    return predictions\n",
        "\n",
        "def test_prediction(index, W1, b1, W2, b2):\n",
        "    current_image = X_train[:, index, None]\n",
        "    prediction = make_predictions(X_train[:, index, None], W1, b1, W2, b2)\n",
        "    label = Y_train[index]\n",
        "    print(\"Prediction: \", prediction)\n",
        "    print(\"Label: \", label)\n",
        "\n",
        "    current_image = current_image.reshape((28, 28)) * 255\n",
        "    plt.gray()\n",
        "    plt.imshow(current_image, interpolation='nearest')\n",
        "    plt.show()"
      ],
      "metadata": {
        "execution": {
          "iopub.status.busy": "2024-06-29T09:38:32.981738Z",
          "iopub.execute_input": "2024-06-29T09:38:32.982046Z",
          "iopub.status.idle": "2024-06-29T09:38:32.990665Z",
          "shell.execute_reply.started": "2024-06-29T09:38:32.982015Z",
          "shell.execute_reply": "2024-06-29T09:38:32.989739Z"
        },
        "trusted": true,
        "id": "dHgi9AHoXkxr"
      },
      "execution_count": 28,
      "outputs": []
    },
    {
      "cell_type": "markdown",
      "source": [
        "Let's look at a couple of examples:"
      ],
      "metadata": {
        "id": "9tpg5hfqXkxr"
      }
    },
    {
      "cell_type": "code",
      "source": [
        "test_prediction(0, W1, b1, W2, b2)\n",
        "test_prediction(1, W1, b1, W2, b2)\n",
        "test_prediction(2, W1, b1, W2, b2)\n",
        "test_prediction(3, W1, b1, W2, b2)"
      ],
      "metadata": {
        "execution": {
          "iopub.status.busy": "2024-06-29T09:38:32.992091Z",
          "iopub.execute_input": "2024-06-29T09:38:32.992439Z",
          "iopub.status.idle": "2024-06-29T09:38:33.690626Z",
          "shell.execute_reply.started": "2024-06-29T09:38:32.992406Z",
          "shell.execute_reply": "2024-06-29T09:38:33.689443Z"
        },
        "trusted": true,
        "id": "LwOMaRkqXkxr",
        "outputId": "d21c7f31-c8ca-4304-f237-5d123ce815bd",
        "colab": {
          "base_uri": "https://localhost:8080/",
          "height": 1000
        }
      },
      "execution_count": 29,
      "outputs": [
        {
          "output_type": "stream",
          "name": "stdout",
          "text": [
            "Prediction:  [6]\n",
            "Label:  6\n"
          ]
        },
        {
          "output_type": "display_data",
          "data": {
            "text/plain": [
              "<Figure size 640x480 with 1 Axes>"
            ],
            "image/png": "[encoded data removed]"
          },
          "metadata": {}
        },
        {
          "output_type": "stream",
          "name": "stdout",
          "text": [
            "Prediction:  [1]\n",
            "Label:  1\n"
          ]
        },
        {
          "output_type": "display_data",
          "data": {
            "text/plain": [
              "<Figure size 640x480 with 1 Axes>"
            ],
            "image/png": "[encoded data removed]"
          },
          "metadata": {}
        },
        {
          "output_type": "stream",
          "name": "stdout",
          "text": [
            "Prediction:  [8]\n",
            "Label:  5\n"
          ]
        },
        {
          "output_type": "display_data",
          "data": {
            "text/plain": [
              "<Figure size 640x480 with 1 Axes>"
            ],
            "image/png": "[encoded data removed]"
          },
          "metadata": {}
        },
        {
          "output_type": "stream",
          "name": "stdout",
          "text": [
            "Prediction:  [0]\n",
            "Label:  0\n"
          ]
        },
        {
          "output_type": "display_data",
          "data": {
            "text/plain": [
              "<Figure size 640x480 with 1 Axes>"
            ],
            "image/png": "[encoded data removed]"
          },
          "metadata": {}
        }
      ]
    },
    {
      "cell_type": "code",
      "source": [
        "dev_predictions = make_predictions(X_dev, W1, b1, W2, b2)\n",
        "get_accuracy(dev_predictions, Y_dev)"
      ],
      "metadata": {
        "execution": {
          "iopub.status.busy": "2024-06-29T09:38:33.692204Z",
          "iopub.execute_input": "2024-06-29T09:38:33.692628Z",
          "iopub.status.idle": "2024-06-29T09:38:33.709151Z",
          "shell.execute_reply.started": "2024-06-29T09:38:33.692584Z",
          "shell.execute_reply": "2024-06-29T09:38:33.708108Z"
        },
        "trusted": true,
        "id": "E9hM_jqLXkxs",
        "outputId": "4e621b63-72b7-4dfa-c850-3a89496653f2",
        "colab": {
          "base_uri": "https://localhost:8080/"
        }
      },
      "execution_count": 30,
      "outputs": [
        {
          "output_type": "stream",
          "name": "stdout",
          "text": [
            "[8 9 2 2 5 3 2 7 8 0 2 2 8 6 2 6 5 6 2 6 6 7 5 1 4 5 3 5 5 1 9 3 2 2 6 9 0\n",
            " 5 0 7 9 3 8 1 8 3 7 4 8 5 1 8 1 0 3 2 3 1 1 9 4 1 2 1 4 1 5 9 2 1 7 7 4 3\n",
            " 8 5 5 4 2 2 3 9 6 7 9 1 8 9 5 7 8 1 9 3 2 1 4 7 9 2 8 3 0 0 0 9 4 6 4 8 7\n",
            " 4 6 6 9 4 2 3 9 1 9 8 4 3 6 9 4 7 5 7 2 7 6 4 0 7 9 9 7 6 2 7 3 6 1 7 6 6\n",
            " 5 9 9 7 5 2 1 9 6 6 4 1 7 1 1 7 2 7 7 0 1 7 4 7 0 3 0 4 1 5 4 5 9 1 8 0 9\n",
            " 3 7 5 7 4 8 1 5 6 1 6 8 7 2 8 9 7 8 9 5 4 5 6 1 4 0 0 2 8 5 9 8 6 6 8 4 3\n",
            " 8 0 5 3 9 1 0 1 7 4 8 5 1 3 9 5 8 4 3 4 3 1 1 2 4 9 3 1 3 7 8 1 7 2 8 5 0\n",
            " 0 4 1 6 1 2 2 4 2 6 7 9 8 0 4 8 8 2 6 2 8 7 1 7 4 9 1 0 8 4 8 1 2 0 7 8 2\n",
            " 3 0 8 1 8 9 8 8 3 9 4 2 6 5 3 3 6 3 4 4 1 4 1 6 1 8 1 5 3 3 3 7 0 5 4 5 5\n",
            " 8 5 0 9 0 8 6 7 4 8 3 8 8 3 2 3 7 9 2 6 8 2 8 9 0 3 1 9 8 0 3 6 3 8 8 4 4\n",
            " 2 2 1 9 2 6 8 2 1 9 4 4 1 4 7 8 0 3 4 6 4 9 6 4 4 2 5 2 7 2 7 5 0 7 4 6 8\n",
            " 4 3 1 5 3 1 9 1 5 5 3 2 3 0 6 0 6 7 9 1 6 2 6 4 8 8 4 9 6 8 4 9 2 6 8 1 3\n",
            " 0 0 4 7 2 1 7 4 5 6 3 6 2 1 4 0 6 7 4 2 0 8 4 3 9 8 3 6 1 4 5 3 9 3 4 3 8\n",
            " 7 1 2 1 8 7 9 3 3 3 8 9 0 5 7 5 8 5 3 1 0 7 9 1 5 2 4 4 7 6 1 6 9 1 5 6 4\n",
            " 8 1 6 1 4 2 1 0 3 5 2 9 8 6 0 2 5 7 7 4 2 9 3 1 9 1 4 8 3 8 5 7 9 6 3 9 4\n",
            " 7 6 1 3 0 3 8 4 3 1 6 7 9 3 2 0 3 8 9 0 7 7 2 0 0 7 3 3 9 2 2 7 4 4 5 7 3\n",
            " 0 5 5 3 1 1 2 7 7 0 8 9 5 1 0 0 1 8 1 1 4 9 6 7 2 0 4 9 1 6 1 4 9 4 9 4 5\n",
            " 8 1 9 9 7 7 5 9 8 8 1 6 0 7 0 0 7 6 3 8 3 8 5 0 1 2 4 8 1 1 8 0 5 7 8 2 7\n",
            " 4 6 6 6 4 0 9 7 7 2 9 0 6 4 7 1 1 9 9 1 4 1 3 9 5 3 9 4 3 0 7 7 8 4 7 7 7\n",
            " 7 3 6 7 9 1 5 7 5 7 1 9 2 7 5 4 3 5 2 6 5 2 6 6 9 2 0 4 8 3 0 0 0 8 2 2 7\n",
            " 8 2 0 4 6 6 8 5 2 6 7 9 3 9 8 6 1 6 6 1 7 8 1 8 9 1 1 5 0 7 6 5 4 0 7 6 2\n",
            " 4 8 6 6 0 4 3 4 7 7 2 4 5 9 5 7 4 5 0 3 3 9 5 6 5 8 4 1 6 5 8 3 3 1 1 2 9\n",
            " 5 7 9 2 1 7 6 1 7 8 3 5 7 7 6 0 4 7 7 8 3 4 7 2 3 4 4 2 1 2 3 8 7 1 3 6 8\n",
            " 2 6 9 0 9 3 1 2 7 9 6 8 0 1 0 8 9 4 3 0 7 4 1 9 4 3 0 5 2 0 2 1 2 2 7 0 2\n",
            " 7 3 0 4 4 7 7 7 8 3 1 3 3 2 4 5 6 2 1 3 1 6 7 7 4 4 2 0 7 0 7 2 1 4 4 1 7\n",
            " 7 8 2 8 7 0 7 5 9 4 1 6 7 7 9 4 0 4 3 9 9 9 3 2 6 9 4 6 2 0 2 0 0 5 0 2 2\n",
            " 6 6 5 3 0 4 7 7 1 8 7 6 2 9 9 3 1 2 8 8 4 5 7 2 2 3 8 3 9 6 2 4 5 0 0 2 3\n",
            " 6] [8 9 2 2 5 3 3 2 8 0 2 2 8 6 2 6 5 4 2 6 6 7 5 1 4 8 3 5 5 1 9 3 7 3 6 9 0\n",
            " 5 0 7 9 3 8 1 3 3 7 4 8 5 1 8 1 0 3 2 3 1 1 9 4 1 2 1 4 1 5 9 3 1 7 7 4 3\n",
            " 5 5 5 4 2 4 3 7 6 7 9 1 8 9 5 7 8 1 8 3 2 1 4 7 9 2 8 3 0 0 0 9 5 6 5 3 7\n",
            " 4 6 6 9 4 2 3 9 1 9 8 4 5 3 9 4 7 5 7 2 7 6 4 0 7 4 9 7 6 2 7 3 6 1 7 6 6\n",
            " 5 9 9 7 5 2 1 9 6 6 4 1 7 1 1 7 2 7 7 0 1 7 4 7 0 3 0 4 1 3 4 5 9 1 8 0 9\n",
            " 3 7 5 7 4 8 7 5 6 1 3 2 7 2 8 9 9 8 9 5 4 5 6 1 4 2 7 2 8 5 9 3 6 6 8 4 3\n",
            " 8 0 5 3 9 1 0 1 7 4 8 5 1 3 9 5 8 4 3 4 3 1 1 6 4 4 3 1 3 7 8 1 7 2 8 5 0\n",
            " 0 4 1 6 1 2 2 4 2 6 7 9 8 0 4 8 8 2 6 2 8 7 1 7 4 9 1 0 8 4 8 1 2 0 7 8 2\n",
            " 3 0 8 1 8 9 8 8 3 9 4 2 6 5 3 3 6 3 4 9 1 4 1 6 1 8 1 5 3 3 3 7 5 5 4 5 5\n",
            " 8 5 0 9 0 8 6 1 4 8 3 2 8 3 2 3 7 9 2 6 8 2 8 9 0 3 2 9 8 0 3 6 3 8 8 4 4\n",
            " 2 2 1 9 2 6 8 2 1 9 4 5 1 4 7 8 0 3 4 6 4 9 6 4 4 2 5 2 7 2 9 5 0 7 4 6 8\n",
            " 4 3 1 5 3 1 9 1 5 0 3 2 3 0 6 0 6 7 9 1 6 2 6 4 8 8 4 9 6 8 9 9 3 6 2 1 3\n",
            " 0 0 4 7 2 1 7 4 3 3 3 6 2 1 4 0 6 7 4 2 0 8 5 3 9 8 3 6 1 4 5 3 9 3 4 3 8\n",
            " 5 1 2 7 8 7 9 3 3 3 5 9 0 5 7 5 8 5 3 1 0 7 9 1 0 2 4 1 7 6 2 6 9 1 5 6 4\n",
            " 8 1 6 1 3 6 1 0 3 5 2 9 8 6 0 2 5 7 7 4 2 9 3 1 9 1 4 8 3 8 5 7 9 6 3 9 4\n",
            " 7 6 1 3 0 3 8 4 3 1 6 7 9 3 2 0 3 0 9 0 7 7 2 3 0 7 3 3 9 2 2 4 4 4 5 7 3\n",
            " 0 5 5 9 1 1 2 7 7 0 3 9 5 1 0 0 1 8 1 1 4 9 6 7 2 0 4 9 1 6 1 4 9 4 9 4 5\n",
            " 8 1 9 9 7 7 5 9 8 4 1 6 0 7 3 0 7 6 3 8 3 8 5 0 1 2 4 8 1 1 5 0 3 7 8 2 7\n",
            " 4 6 6 6 4 0 5 7 7 2 9 0 4 4 7 1 1 7 9 1 4 1 3 9 5 3 9 4 3 0 7 2 8 4 7 3 7\n",
            " 7 3 6 7 9 1 0 7 5 7 1 9 2 7 5 4 3 5 2 2 5 2 6 6 9 2 0 4 8 3 0 0 0 8 2 2 7\n",
            " 8 2 0 6 6 6 9 5 2 6 7 9 3 9 8 6 1 6 6 1 7 8 1 5 9 1 1 5 0 7 6 5 4 0 7 6 5\n",
            " 4 8 6 6 0 4 3 5 9 7 2 4 5 9 5 7 4 5 0 3 3 9 5 6 5 8 4 1 6 5 8 3 3 1 1 2 9\n",
            " 5 7 9 2 1 7 6 1 8 8 3 5 7 7 2 0 9 7 7 8 3 4 7 3 3 4 4 2 1 2 3 5 7 1 5 6 8\n",
            " 2 6 9 0 7 3 1 2 7 9 6 8 0 1 0 8 9 4 3 0 7 4 1 9 4 3 0 5 2 0 2 1 2 7 7 0 2\n",
            " 7 3 0 6 4 7 7 7 8 3 1 3 7 2 4 5 6 2 1 9 1 6 9 7 4 4 2 0 7 0 7 2 1 4 5 1 7\n",
            " 7 8 2 8 7 0 7 5 9 4 1 6 7 7 9 4 2 4 3 9 9 9 3 2 6 9 7 6 2 0 2 2 0 5 0 2 2\n",
            " 6 6 5 3 0 4 7 7 1 8 7 6 2 9 9 5 1 2 3 4 4 5 7 2 2 3 1 3 9 6 2 9 5 0 0 2 3\n",
            " 6]\n"
          ]
        },
        {
          "output_type": "execute_result",
          "data": {
            "text/plain": [
              "0.907"
            ]
          },
          "metadata": {},
          "execution_count": 30
        }
      ]
    }
  ]
}